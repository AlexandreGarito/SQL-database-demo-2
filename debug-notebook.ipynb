{
 "cells": [
  {
   "attachments": {},
   "cell_type": "markdown",
   "metadata": {},
   "source": [
    "# Debugging \n",
    "Drop all tables, so that main.py can be run again entirely"
   ]
  },
  {
   "cell_type": "code",
   "execution_count": null,
   "metadata": {},
   "outputs": [],
   "source": [
    "from sqlalchemy import MetaData\n",
    "from gcp_interactions import conn_to_psql, close_conn_to_sql\n",
    "\n",
    "print(\"Connecting to GCP database\")\n",
    "pool, connector = conn_to_psql()\n",
    "print(\"Connection established\")\n",
    "\n",
    "metadata = MetaData()\n",
    "metadata.reflect(bind=pool)\n",
    "\n",
    "for table in metadata.sorted_tables:\n",
    "    print(f\"Dropping table {table}\")\n",
    "    pool.execute(f\"DROP TABLE IF EXISTS {table} CASCADE\")\n",
    "print(\"All tables dropped\")\n",
    "\n",
    "\n",
    "close_conn_to_sql(pool, connector)\n",
    "print(\"Connection closed\")\n"
   ]
  }
 ],
 "metadata": {
  "kernelspec": {
   "display_name": "Python 3",
   "language": "python",
   "name": "python3"
  },
  "language_info": {
   "codemirror_mode": {
    "name": "ipython",
    "version": 3
   },
   "file_extension": ".py",
   "mimetype": "text/x-python",
   "name": "python",
   "nbconvert_exporter": "python",
   "pygments_lexer": "ipython3",
   "version": "3.9.13"
  },
  "orig_nbformat": 4
 },
 "nbformat": 4,
 "nbformat_minor": 2
}
